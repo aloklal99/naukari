{
 "cells": [
  {
   "cell_type": "markdown",
   "metadata": {},
   "source": [
    "# Random Node from Linked List\n",
    "When I submit my solution to the [leetcode problem](https://leetcode.com/problems/linked-list-random-node/) about selecting random node from a linked list it fails.  So I started to doubt if the solution is correct and decided to run a simulation to check if in fact my logic is right.  The below attempts to return the random node with a single traversal of the list."
   ]
  },
  {
   "cell_type": "code",
   "execution_count": 1,
   "metadata": {},
   "outputs": [],
   "source": [
    "class ListNode:\n",
    "    def __init__(self, val):\n",
    "        self.val = val\n",
    "        self.next = None\n",
    "    \n",
    "    def __repr__(self):\n",
    "        \"\"\"\n",
    "        Just to show the value of a node\n",
    "        \"\"\"\n",
    "        return \"val: {val}, next: {nextVal}\".format(val=self.val, nextVal=self.next.val if self.next else None)\n",
    "    \n",
    "    def __str__(self):\n",
    "        \"\"\"\n",
    "        If this node were the head list then print the list starting from this node onwards\n",
    "        \"\"\"\n",
    "        head = self\n",
    "        nums=[]\n",
    "        while head:\n",
    "            nums.append(head.val)\n",
    "            head = head.next\n",
    "        return \"->\".join(map(str, nums))\n",
    "\n",
    "    @classmethod\n",
    "    def fromArray(cls, nums):\n",
    "        \"\"\"\n",
    "        Create a list from\n",
    "        :arg nums array of numbers\n",
    "        \"\"\"\n",
    "        head, node = None, None\n",
    "        for num in nums:\n",
    "            new = ListNode(num)\n",
    "            if node:\n",
    "                node.next = new\n",
    "                node = new\n",
    "            else:\n",
    "                head = new\n",
    "                node = new\n",
    "        return head"
   ]
  },
  {
   "cell_type": "markdown",
   "metadata": {},
   "source": [
    "## Solution\n",
    "This is the [main solution](https://www.geeksforgeeks.org/select-a-random-number-from-stream-with-o1-space/)\n"
   ]
  },
  {
   "cell_type": "code",
   "execution_count": 2,
   "metadata": {},
   "outputs": [],
   "source": [
    "import random\n",
    "\n",
    "class Solution:\n",
    "\n",
    "    def __init__(self, head):\n",
    "        \"\"\"\n",
    "        @param head The linked list's head.\n",
    "        Note that the head is guaranteed to be not null, so it contains at least one node.\n",
    "        :type head: ListNode\n",
    "        \"\"\"\n",
    "        self.head = head\n",
    "\n",
    "    def getRandom(self):\n",
    "        \"\"\"\n",
    "        Returns a random node's value.\n",
    "        :rtype: int\n",
    "        \"\"\"\n",
    "        head = self.head\n",
    "        assert head, \"We assume that list has already one element in it!\"\n",
    "        # How many elements have we seen so far\n",
    "        cnt = 1 \n",
    "        # The value from the randomly selected node that we'd return to the caller\n",
    "        val = head.val\n",
    "        # variable used to traverse the linked list\n",
    "        node = head.next\n",
    "        while node:\n",
    "            cnt += 1\n",
    "            # randint returns uniformly distributed number between [1, cnt].  Note that cnt is included\n",
    "            # in the possible return values.  So at every step we check if the newest element we say, i.e.\n",
    "            # the cnt-th element is selected or not, if so we use that to replace the value we'd return\n",
    "            rand = random.randint(1, cnt)\n",
    "            if  rand == cnt:\n",
    "                val = node.val\n",
    "            # if debug:\n",
    "                # print(f\"cnt={cnt}, rand={rand}, val={val}\")\n",
    "            node = node.next\n",
    "        # if debug:\n",
    "            # print(f\"getRandom: val: {val}\")\n",
    "        return val"
   ]
  },
  {
   "cell_type": "code",
   "execution_count": 3,
   "metadata": {},
   "outputs": [],
   "source": [
    "import collections\n",
    "def simulate(arr, n=10000): # by default repeat for 10^4 times\n",
    "    c = collections.Counter()\n",
    "    s = Solution(arr)\n",
    "    for _ in range(n): # repeat for 10^4 times\n",
    "        c.update([s.getRandom()])\n",
    "    return c"
   ]
  },
  {
   "cell_type": "code",
   "execution_count": 4,
   "metadata": {},
   "outputs": [
    {
     "name": "stdout",
     "output_type": "stream",
     "text": [
      "1.0\n"
     ]
    }
   ],
   "source": [
    "arrs = [\n",
    "    [10, 20, 20, 30, 30, 30],\n",
    "    [30, 20, 20, 30, 30, 10],\n",
    "]\n",
    "\n",
    "expectedProbs = {10: 1/6, 20: 1/3, 30: 1/2}\n",
    "print(sum(expectedProbs.values()))"
   ]
  },
  {
   "cell_type": "code",
   "execution_count": 5,
   "metadata": {},
   "outputs": [],
   "source": [
    "import functools, operator, statistics"
   ]
  },
  {
   "cell_type": "code",
   "execution_count": 6,
   "metadata": {},
   "outputs": [],
   "source": [
    "def updateResult(result, error):\n",
    "    for num, err in error.items():\n",
    "        result[num].append(err)"
   ]
  },
  {
   "cell_type": "code",
   "execution_count": 7,
   "metadata": {},
   "outputs": [],
   "source": [
    "expectedProbs = {10: 1/6, 20: 1/3, 30: 1/2}\n",
    "def getProbError(probs):\n",
    "    return {num: abs(expectedProbs[num]-probs[num])/expectedProbs[num] for num in sorted(probs.keys())}"
   ]
  },
  {
   "cell_type": "code",
   "execution_count": 8,
   "metadata": {},
   "outputs": [
    {
     "name": "stdout",
     "output_type": "stream",
     "text": [
      "expectation: {10: 0.16666666666666666, 20: 0.3333333333333333, 30: 0.5}\n",
      "linked-list 10->20->20->30->30->30\n",
      "linked-list 30->20->20->30->30->10\n"
     ]
    }
   ],
   "source": [
    "# Number of experiments\n",
    "n = 100\n",
    "# Number of random numbers drawn in each experiment\n",
    "m = 10000\n",
    "\n",
    "print(f\"expectation: {expectedProbs}\")\n",
    "results = []\n",
    "for arr in arrs:\n",
    "    head = ListNode.fromArray(arr)\n",
    "    print(f\"linked-list {head}\")\n",
    "    result = collections.defaultdict(list)\n",
    "    for _ in range(n):\n",
    "        c = simulate(head, n)\n",
    "#         print(f\"\\t Results: {c}\")\n",
    "        p = { key: c[key]/n for key in sorted(c.keys()) }\n",
    "#         print(f\"\\t probs: {p}\")\n",
    "#         error = { key: abs((p[key]-expectedProbs[key])expectedProbs[key]) for key in sorted(c.keys())}\n",
    "#         print(f\"\\t error: {error}\")\n",
    "        updateResult(result, p)\n",
    "    results.append(result)"
   ]
  },
  {
   "cell_type": "code",
   "execution_count": 9,
   "metadata": {},
   "outputs": [
    {
     "name": "stdout",
     "output_type": "stream",
     "text": [
      "expectation: {10: 0.16666666666666666, 20: 0.3333333333333333, 30: 0.5}\n",
      "Array: [10, 20, 20, 30, 30, 30]\n",
      "\t num: 10, mean-of-mean: 0.1676, sd: 0.03995249704589214\n",
      "\t num: 20, mean-of-mean: 0.3414, sd: 0.04447266780639747\n",
      "\t num: 30, mean-of-mean: 0.491, sd: 0.0491236329390581\n",
      "Array: [30, 20, 20, 30, 30, 10]\n",
      "\t num: 10, mean-of-mean: 0.1655, sd: 0.04071023498241238\n",
      "\t num: 20, mean-of-mean: 0.3376, sd: 0.054829764091258226\n",
      "\t num: 30, mean-of-mean: 0.4969, sd: 0.04615947323894598\n"
     ]
    }
   ],
   "source": [
    "print(f\"expectation: {expectedProbs}\")\n",
    "for i in range(len(arrs)):\n",
    "    print(f\"Array: {arrs[i]}\")\n",
    "    for num, errors in sorted(results[i].items()):\n",
    "        print(f\"\\t num: {num}, mean-of-mean: {statistics.mean(errors)}, sd: {statistics.stdev(errors)}\")"
   ]
  },
  {
   "cell_type": "code",
   "execution_count": null,
   "metadata": {},
   "outputs": [],
   "source": []
  }
 ],
 "metadata": {
  "kernelspec": {
   "display_name": "Python 3",
   "language": "python",
   "name": "python3"
  },
  "language_info": {
   "codemirror_mode": {
    "name": "ipython",
    "version": 3
   },
   "file_extension": ".py",
   "mimetype": "text/x-python",
   "name": "python",
   "nbconvert_exporter": "python",
   "pygments_lexer": "ipython3",
   "version": "3.7.1"
  }
 },
 "nbformat": 4,
 "nbformat_minor": 2
}
