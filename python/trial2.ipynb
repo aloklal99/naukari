{
 "cells": [
  {
   "cell_type": "code",
   "execution_count": 2,
   "metadata": {},
   "outputs": [],
   "source": [
    "import pandas as pd\n",
    "import numpy as np\n",
    "import matplotlib.pyplot as plt\n",
    "from scipy import stats"
   ]
  },
  {
   "cell_type": "code",
   "execution_count": 3,
   "metadata": {},
   "outputs": [],
   "source": [
    "df = pd.read_csv(\"/Users/allal/Downloads/2.csv\")"
   ]
  },
  {
   "cell_type": "code",
   "execution_count": 4,
   "metadata": {},
   "outputs": [
    {
     "data": {
      "text/html": [
       "<div>\n",
       "<style scoped>\n",
       "    .dataframe tbody tr th:only-of-type {\n",
       "        vertical-align: middle;\n",
       "    }\n",
       "\n",
       "    .dataframe tbody tr th {\n",
       "        vertical-align: top;\n",
       "    }\n",
       "\n",
       "    .dataframe thead th {\n",
       "        text-align: right;\n",
       "    }\n",
       "</style>\n",
       "<table border=\"1\" class=\"dataframe\">\n",
       "  <thead>\n",
       "    <tr style=\"text-align: right;\">\n",
       "      <th></th>\n",
       "      <th>payout_trans_id</th>\n",
       "      <th>prtn_key</th>\n",
       "      <th>payee_id</th>\n",
       "      <th>payout_rqst_key</th>\n",
       "      <th>payout_group_id</th>\n",
       "      <th>payout_stat_cd</th>\n",
       "      <th>payout_amt</th>\n",
       "      <th>iso_curncy_id</th>\n",
       "      <th>payout_pymt_prcsr_id</th>\n",
       "      <th>payout_initiation_dt</th>\n",
       "      <th>...</th>\n",
       "      <th>order_cnt</th>\n",
       "      <th>no_of_retry_num</th>\n",
       "      <th>src_cre_dt</th>\n",
       "      <th>src_cre_tm</th>\n",
       "      <th>src_last_mdfd_dt</th>\n",
       "      <th>src_last_mdfd_tm</th>\n",
       "      <th>cre_date</th>\n",
       "      <th>cre_user</th>\n",
       "      <th>upd_date</th>\n",
       "      <th>upd_user</th>\n",
       "    </tr>\n",
       "  </thead>\n",
       "  <tbody>\n",
       "    <tr>\n",
       "      <th>0</th>\n",
       "      <td>5001680204</td>\n",
       "      <td>13</td>\n",
       "      <td>1254846020</td>\n",
       "      <td>NaN</td>\n",
       "      <td>5008517108</td>\n",
       "      <td>INTERNAL_RETRY</td>\n",
       "      <td>0.0</td>\n",
       "      <td>840</td>\n",
       "      <td>NaN</td>\n",
       "      <td>2019-02-27</td>\n",
       "      <td>...</td>\n",
       "      <td>1</td>\n",
       "      <td>52</td>\n",
       "      <td>2019-02-27</td>\n",
       "      <td>2019-02-27 12:30:58.000</td>\n",
       "      <td>2019-02-27</td>\n",
       "      <td>2019-02-27 12:30:58.000</td>\n",
       "      <td>2019-02-28</td>\n",
       "      <td>b_pymt</td>\n",
       "      <td>NaN</td>\n",
       "      <td>NaN</td>\n",
       "    </tr>\n",
       "    <tr>\n",
       "      <th>1</th>\n",
       "      <td>5001899300</td>\n",
       "      <td>13</td>\n",
       "      <td>1254846020</td>\n",
       "      <td>NaN</td>\n",
       "      <td>5008517108</td>\n",
       "      <td>INTERNAL_RETRY</td>\n",
       "      <td>0.0</td>\n",
       "      <td>840</td>\n",
       "      <td>NaN</td>\n",
       "      <td>2019-03-03</td>\n",
       "      <td>...</td>\n",
       "      <td>1</td>\n",
       "      <td>56</td>\n",
       "      <td>2019-03-03</td>\n",
       "      <td>2019-03-03 12:31:04.000</td>\n",
       "      <td>2019-03-03</td>\n",
       "      <td>2019-03-03 12:31:04.000</td>\n",
       "      <td>2019-03-04</td>\n",
       "      <td>b_pymt</td>\n",
       "      <td>NaN</td>\n",
       "      <td>NaN</td>\n",
       "    </tr>\n",
       "    <tr>\n",
       "      <th>2</th>\n",
       "      <td>5001899444</td>\n",
       "      <td>13</td>\n",
       "      <td>1254846020</td>\n",
       "      <td>NaN</td>\n",
       "      <td>5008517108</td>\n",
       "      <td>INTERNAL_RETRY</td>\n",
       "      <td>0.0</td>\n",
       "      <td>840</td>\n",
       "      <td>NaN</td>\n",
       "      <td>2019-03-04</td>\n",
       "      <td>...</td>\n",
       "      <td>1</td>\n",
       "      <td>57</td>\n",
       "      <td>2019-03-04</td>\n",
       "      <td>2019-03-04 12:31:10.000</td>\n",
       "      <td>2019-03-04</td>\n",
       "      <td>2019-03-04 12:31:10.000</td>\n",
       "      <td>2019-03-05</td>\n",
       "      <td>b_pymt</td>\n",
       "      <td>NaN</td>\n",
       "      <td>NaN</td>\n",
       "    </tr>\n",
       "    <tr>\n",
       "      <th>3</th>\n",
       "      <td>5002256588</td>\n",
       "      <td>13</td>\n",
       "      <td>1254846020</td>\n",
       "      <td>NaN</td>\n",
       "      <td>5008517108</td>\n",
       "      <td>INTERNAL_RETRY</td>\n",
       "      <td>0.0</td>\n",
       "      <td>840</td>\n",
       "      <td>NaN</td>\n",
       "      <td>2019-03-02</td>\n",
       "      <td>...</td>\n",
       "      <td>1</td>\n",
       "      <td>55</td>\n",
       "      <td>2019-03-02</td>\n",
       "      <td>2019-03-02 12:31:17.000</td>\n",
       "      <td>2019-03-02</td>\n",
       "      <td>2019-03-02 12:31:17.000</td>\n",
       "      <td>2019-03-03</td>\n",
       "      <td>b_pymt</td>\n",
       "      <td>NaN</td>\n",
       "      <td>NaN</td>\n",
       "    </tr>\n",
       "    <tr>\n",
       "      <th>4</th>\n",
       "      <td>5001688902</td>\n",
       "      <td>13</td>\n",
       "      <td>1153197366</td>\n",
       "      <td>SCH-1153197366-5012231118</td>\n",
       "      <td>5012231118</td>\n",
       "      <td>DISBURSED</td>\n",
       "      <td>0.0</td>\n",
       "      <td>840</td>\n",
       "      <td>NaN</td>\n",
       "      <td>2019-02-25</td>\n",
       "      <td>...</td>\n",
       "      <td>1</td>\n",
       "      <td>0</td>\n",
       "      <td>2019-02-25</td>\n",
       "      <td>2019-02-25 06:24:05.000</td>\n",
       "      <td>2019-02-25</td>\n",
       "      <td>2019-02-25 06:24:05.000</td>\n",
       "      <td>2019-02-26</td>\n",
       "      <td>b_pymt</td>\n",
       "      <td>NaN</td>\n",
       "      <td>NaN</td>\n",
       "    </tr>\n",
       "  </tbody>\n",
       "</table>\n",
       "<p>5 rows × 31 columns</p>\n",
       "</div>"
      ],
      "text/plain": [
       "   payout_trans_id  prtn_key    payee_id            payout_rqst_key  \\\n",
       "0       5001680204        13  1254846020                        NaN   \n",
       "1       5001899300        13  1254846020                        NaN   \n",
       "2       5001899444        13  1254846020                        NaN   \n",
       "3       5002256588        13  1254846020                        NaN   \n",
       "4       5001688902        13  1153197366  SCH-1153197366-5012231118   \n",
       "\n",
       "   payout_group_id  payout_stat_cd  payout_amt  iso_curncy_id  \\\n",
       "0       5008517108  INTERNAL_RETRY         0.0            840   \n",
       "1       5008517108  INTERNAL_RETRY         0.0            840   \n",
       "2       5008517108  INTERNAL_RETRY         0.0            840   \n",
       "3       5008517108  INTERNAL_RETRY         0.0            840   \n",
       "4       5012231118       DISBURSED         0.0            840   \n",
       "\n",
       "  payout_pymt_prcsr_id payout_initiation_dt  ... order_cnt  no_of_retry_num  \\\n",
       "0                  NaN           2019-02-27  ...         1               52   \n",
       "1                  NaN           2019-03-03  ...         1               56   \n",
       "2                  NaN           2019-03-04  ...         1               57   \n",
       "3                  NaN           2019-03-02  ...         1               55   \n",
       "4                  NaN           2019-02-25  ...         1                0   \n",
       "\n",
       "   src_cre_dt               src_cre_tm src_last_mdfd_dt  \\\n",
       "0  2019-02-27  2019-02-27 12:30:58.000       2019-02-27   \n",
       "1  2019-03-03  2019-03-03 12:31:04.000       2019-03-03   \n",
       "2  2019-03-04  2019-03-04 12:31:10.000       2019-03-04   \n",
       "3  2019-03-02  2019-03-02 12:31:17.000       2019-03-02   \n",
       "4  2019-02-25  2019-02-25 06:24:05.000       2019-02-25   \n",
       "\n",
       "          src_last_mdfd_tm    cre_date  cre_user  upd_date upd_user  \n",
       "0  2019-02-27 12:30:58.000  2019-02-28    b_pymt       NaN      NaN  \n",
       "1  2019-03-03 12:31:04.000  2019-03-04    b_pymt       NaN      NaN  \n",
       "2  2019-03-04 12:31:10.000  2019-03-05    b_pymt       NaN      NaN  \n",
       "3  2019-03-02 12:31:17.000  2019-03-03    b_pymt       NaN      NaN  \n",
       "4  2019-02-25 06:24:05.000  2019-02-26    b_pymt       NaN      NaN  \n",
       "\n",
       "[5 rows x 31 columns]"
      ]
     },
     "execution_count": 4,
     "metadata": {},
     "output_type": "execute_result"
    }
   ],
   "source": [
    "df.head()"
   ]
  },
  {
   "cell_type": "code",
   "execution_count": 6,
   "metadata": {},
   "outputs": [
    {
     "data": {
      "text/plain": [
       "<pandas.core.groupby.generic.DataFrameGroupBy object at 0x1a18fd6dd8>"
      ]
     },
     "execution_count": 6,
     "metadata": {},
     "output_type": "execute_result"
    }
   ],
   "source": [
    "df.groupby(\"payout_stat_cd\")"
   ]
  },
  {
   "cell_type": "code",
   "execution_count": 19,
   "metadata": {},
   "outputs": [
    {
     "data": {
      "text/plain": [
       "(3.4254978947864587, 16.605479452054794)"
      ]
     },
     "execution_count": 19,
     "metadata": {},
     "output_type": "execute_result"
    }
   ],
   "source": [
    "df.sigma3_diff.std(), df.sigma3_diff.mean(), "
   ]
  },
  {
   "cell_type": "code",
   "execution_count": 50,
   "metadata": {},
   "outputs": [
    {
     "data": {
      "text/plain": [
       "(array([282.,   6.,  26.,   1.,   0.,  42.,   0.,   0.,   0.,   8.]),\n",
       " array([15. , 16.6, 18.2, 19.8, 21.4, 23. , 24.6, 26.2, 27.8, 29.4, 31. ]),\n",
       " <a list of 10 Patch objects>)"
      ]
     },
     "execution_count": 50,
     "metadata": {},
     "output_type": "execute_result"
    },
    {
     "data": {
      "image/png": "[encoded data removed]",
      "text/plain": [
       "<Figure size 432x288 with 1 Axes>"
      ]
     },
     "metadata": {
      "needs_background": "light"
     },
     "output_type": "display_data"
    }
   ],
   "source": [
    "plt.hist(df.sigma3_diff)"
   ]
  },
  {
   "cell_type": "code",
   "execution_count": 49,
   "metadata": {},
   "outputs": [
    {
     "ename": "TypeError",
     "evalue": "_parse_args() missing 1 required positional argument: 'a'",
     "output_type": "error",
     "traceback": [
      "\u001b[0;31m---------------------------------------------------------------------------\u001b[0m",
      "\u001b[0;31mTypeError\u001b[0m                                 Traceback (most recent call last)",
      "\u001b[0;32m<ipython-input-49-7eaf378285b7>\u001b[0m in \u001b[0;36m<module>\u001b[0;34m\u001b[0m\n\u001b[0;32m----> 1\u001b[0;31m \u001b[0mstats\u001b[0m\u001b[0;34m.\u001b[0m\u001b[0mkstest\u001b[0m\u001b[0;34m(\u001b[0m\u001b[0mdf\u001b[0m\u001b[0;34m.\u001b[0m\u001b[0msigma3_diff\u001b[0m\u001b[0;34m,\u001b[0m \u001b[0;34m\"gamma\"\u001b[0m\u001b[0;34m)\u001b[0m\u001b[0;34m\u001b[0m\u001b[0;34m\u001b[0m\u001b[0m\n\u001b[0m",
      "\u001b[0;32m~/miniconda3/envs/py37/lib/python3.7/site-packages/scipy/stats/stats.py\u001b[0m in \u001b[0;36mkstest\u001b[0;34m(rvs, cdf, args, N, alternative, mode)\u001b[0m\n\u001b[1;32m   4315\u001b[0m         \u001b[0mvals\u001b[0m \u001b[0;34m=\u001b[0m \u001b[0mnp\u001b[0m\u001b[0;34m.\u001b[0m\u001b[0msort\u001b[0m\u001b[0;34m(\u001b[0m\u001b[0mrvs\u001b[0m\u001b[0;34m)\u001b[0m\u001b[0;34m\u001b[0m\u001b[0;34m\u001b[0m\u001b[0m\n\u001b[1;32m   4316\u001b[0m         \u001b[0mN\u001b[0m \u001b[0;34m=\u001b[0m \u001b[0mlen\u001b[0m\u001b[0;34m(\u001b[0m\u001b[0mvals\u001b[0m\u001b[0;34m)\u001b[0m\u001b[0;34m\u001b[0m\u001b[0;34m\u001b[0m\u001b[0m\n\u001b[0;32m-> 4317\u001b[0;31m     \u001b[0mcdfvals\u001b[0m \u001b[0;34m=\u001b[0m \u001b[0mcdf\u001b[0m\u001b[0;34m(\u001b[0m\u001b[0mvals\u001b[0m\u001b[0;34m,\u001b[0m \u001b[0;34m*\u001b[0m\u001b[0margs\u001b[0m\u001b[0;34m)\u001b[0m\u001b[0;34m\u001b[0m\u001b[0;34m\u001b[0m\u001b[0m\n\u001b[0m\u001b[1;32m   4318\u001b[0m \u001b[0;34m\u001b[0m\u001b[0m\n\u001b[1;32m   4319\u001b[0m     \u001b[0;31m# to not break compatibility with existing code\u001b[0m\u001b[0;34m\u001b[0m\u001b[0;34m\u001b[0m\u001b[0;34m\u001b[0m\u001b[0m\n",
      "\u001b[0;32m~/miniconda3/envs/py37/lib/python3.7/site-packages/scipy/stats/_distn_infrastructure.py\u001b[0m in \u001b[0;36mcdf\u001b[0;34m(self, x, *args, **kwds)\u001b[0m\n\u001b[1;32m   1729\u001b[0m \u001b[0;34m\u001b[0m\u001b[0m\n\u001b[1;32m   1730\u001b[0m         \"\"\"\n\u001b[0;32m-> 1731\u001b[0;31m         \u001b[0margs\u001b[0m\u001b[0;34m,\u001b[0m \u001b[0mloc\u001b[0m\u001b[0;34m,\u001b[0m \u001b[0mscale\u001b[0m \u001b[0;34m=\u001b[0m \u001b[0mself\u001b[0m\u001b[0;34m.\u001b[0m\u001b[0m_parse_args\u001b[0m\u001b[0;34m(\u001b[0m\u001b[0;34m*\u001b[0m\u001b[0margs\u001b[0m\u001b[0;34m,\u001b[0m \u001b[0;34m**\u001b[0m\u001b[0mkwds\u001b[0m\u001b[0;34m)\u001b[0m\u001b[0;34m\u001b[0m\u001b[0;34m\u001b[0m\u001b[0m\n\u001b[0m\u001b[1;32m   1732\u001b[0m         \u001b[0mx\u001b[0m\u001b[0;34m,\u001b[0m \u001b[0mloc\u001b[0m\u001b[0;34m,\u001b[0m \u001b[0mscale\u001b[0m \u001b[0;34m=\u001b[0m \u001b[0mmap\u001b[0m\u001b[0;34m(\u001b[0m\u001b[0masarray\u001b[0m\u001b[0;34m,\u001b[0m \u001b[0;34m(\u001b[0m\u001b[0mx\u001b[0m\u001b[0;34m,\u001b[0m \u001b[0mloc\u001b[0m\u001b[0;34m,\u001b[0m \u001b[0mscale\u001b[0m\u001b[0;34m)\u001b[0m\u001b[0;34m)\u001b[0m\u001b[0;34m\u001b[0m\u001b[0;34m\u001b[0m\u001b[0m\n\u001b[1;32m   1733\u001b[0m         \u001b[0margs\u001b[0m \u001b[0;34m=\u001b[0m \u001b[0mtuple\u001b[0m\u001b[0;34m(\u001b[0m\u001b[0mmap\u001b[0m\u001b[0;34m(\u001b[0m\u001b[0masarray\u001b[0m\u001b[0;34m,\u001b[0m \u001b[0margs\u001b[0m\u001b[0;34m)\u001b[0m\u001b[0;34m)\u001b[0m\u001b[0;34m\u001b[0m\u001b[0;34m\u001b[0m\u001b[0m\n",
      "\u001b[0;31mTypeError\u001b[0m: _parse_args() missing 1 required positional argument: 'a'"
     ]
    }
   ],
   "source": [
    "stats.kstest(df.sigma3_diff, \"gamma\")"
   ]
  },
  {
   "cell_type": "code",
   "execution_count": 45,
   "metadata": {},
   "outputs": [],
   "source": [
    "x = np.random.normal(size=10000)"
   ]
  },
  {
   "cell_type": "code",
   "execution_count": 46,
   "metadata": {},
   "outputs": [
    {
     "data": {
      "text/plain": [
       "(array([  26.,  159.,  684., 1813., 2873., 2551., 1374.,  449.,   66.,\n",
       "           5.]),\n",
       " array([-3.55626578, -2.81777885, -2.07929192, -1.34080499, -0.60231806,\n",
       "         0.13616887,  0.8746558 ,  1.61314272,  2.35162965,  3.09011658,\n",
       "         3.82860351]),\n",
       " <a list of 10 Patch objects>)"
      ]
     },
     "execution_count": 46,
     "metadata": {},
     "output_type": "execute_result"
    },
    {
     "data": {
      "image/png": "[encoded data removed]",
      "text/plain": [
       "<Figure size 432x288 with 1 Axes>"
      ]
     },
     "metadata": {
      "needs_background": "light"
     },
     "output_type": "display_data"
    }
   ],
   "source": [
    "plt.hist(x)"
   ]
  },
  {
   "cell_type": "code",
   "execution_count": 47,
   "metadata": {},
   "outputs": [
    {
     "data": {
      "text/plain": [
       "KstestResult(statistic=0.006891004305677184, pvalue=0.7292952472766282)"
      ]
     },
     "execution_count": 47,
     "metadata": {},
     "output_type": "execute_result"
    }
   ],
   "source": [
    "stats.kstest(x, \"norm\")"
   ]
  },
  {
   "cell_type": "code",
   "execution_count": null,
   "metadata": {},
   "outputs": [],
   "source": [
    "stats.norm.rvs()"
   ]
  }
 ],
 "metadata": {
  "kernelspec": {
   "display_name": "Python 3",
   "language": "python",
   "name": "python3"
  },
  "language_info": {
   "codemirror_mode": {
    "name": "ipython",
    "version": 3
   },
   "file_extension": ".py",
   "mimetype": "text/x-python",
   "name": "python",
   "nbconvert_exporter": "python",
   "pygments_lexer": "ipython3",
   "version": "3.7.1"
  }
 },
 "nbformat": 4,
 "nbformat_minor": 2
}
